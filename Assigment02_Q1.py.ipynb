{
 "cells": [
  {
   "cell_type": "markdown",
   "id": "a3e8348d",
   "metadata": {},
   "source": [
    "Write a Python program to get a list, sorted in increasing order by the \n",
    "last element in each tuple from a given list of non-empty tuples\n",
    "\n",
    "\n",
    "\n",
    "Sample List : [(2, 5), (1, 2), (4, 4), (2, 3), (2, 1)]\n",
    "\n",
    "Expected Result : [(2, 1), (1, 2), (2, 3), (4, 4), (2, 5)]"
   ]
  },
  {
   "cell_type": "code",
   "execution_count": 3,
   "id": "961a9aa8",
   "metadata": {},
   "outputs": [
    {
     "name": "stdout",
     "output_type": "stream",
     "text": [
      "[(2, 1), (1, 2), (2, 3), (4, 4), (2, 5)]\n"
     ]
    }
   ],
   "source": [
    "List_with_tup = [(2, 5),(1, 2),(4, 4),(2, 3),(2, 1)]\n",
    "last=len(List_with_tup)\n",
    "for i in range(last):\n",
    "    for j in range(last-i-1):\n",
    "        if List_with_tup[j][1]>List_with_tup[j+1][1]:\n",
    "            x=List_with_tup[j]\n",
    "            List_with_tup[j]=List_with_tup[j+1]\n",
    "            List_with_tup[j+1]=x\n",
    "print(List_with_tup)            "
   ]
  },
  {
   "cell_type": "code",
   "execution_count": null,
   "id": "f9bb0691",
   "metadata": {},
   "outputs": [],
   "source": []
  }
 ],
 "metadata": {
  "kernelspec": {
   "display_name": "Python 3 (ipykernel)",
   "language": "python",
   "name": "python3"
  },
  "language_info": {
   "codemirror_mode": {
    "name": "ipython",
    "version": 3
   },
   "file_extension": ".py",
   "mimetype": "text/x-python",
   "name": "python",
   "nbconvert_exporter": "python",
   "pygments_lexer": "ipython3",
   "version": "3.9.6"
  }
 },
 "nbformat": 4,
 "nbformat_minor": 5
}
